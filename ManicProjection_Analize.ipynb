{
 "cells": [
  {
   "cell_type": "code",
   "execution_count": 4,
   "metadata": {},
   "outputs": [
    {
     "name": "stdout",
     "output_type": "stream",
     "text": [
      "______====______\n"
     ]
    }
   ],
   "source": [
    "import numpy as np\n",
    "from pandas import DataFrame\n",
    "from pandas import read_csv\n",
    "from matplotlib import pyplot\n",
    "from random import random as random\n",
    "from warnings import filterwarnings as message\n",
    "from time import sleep\n",
    "from matplotlib import pyplot\n",
    "\n",
    "\n",
    "from sklearn.model_selection import train_test_split\n",
    "from sklearn.linear_model import LogisticRegression\n",
    "\n",
    "from sklearn.linear_model import LinearRegression\n",
    "\n",
    "from sklearn.tree import DecisionTreeClassifier\n",
    "from sklearn.tree import DecisionTreeRegressor\n",
    "\n",
    "from sklearn.preprocessing import MinMaxScaler\n",
    "from sklearn.preprocessing import normalize\n",
    "\n",
    "from sklearn.preprocessing import StandardScaler\n",
    "message('ignore')\n",
    "print('______====______')"
   ]
  },
  {
   "cell_type": "code",
   "execution_count": null,
   "metadata": {},
   "outputs": [],
   "source": []
  },
  {
   "cell_type": "code",
   "execution_count": 5,
   "metadata": {},
   "outputs": [],
   "source": [
    "from PICK_UP import *"
   ]
  },
  {
   "cell_type": "code",
   "execution_count": null,
   "metadata": {},
   "outputs": [],
   "source": []
  },
  {
   "cell_type": "code",
   "execution_count": null,
   "metadata": {},
   "outputs": [],
   "source": []
  },
  {
   "cell_type": "code",
   "execution_count": null,
   "metadata": {},
   "outputs": [],
   "source": []
  },
  {
   "cell_type": "code",
   "execution_count": null,
   "metadata": {},
   "outputs": [],
   "source": []
  },
  {
   "cell_type": "code",
   "execution_count": 3,
   "metadata": {},
   "outputs": [],
   "source": [
    "\n",
    "class ManicProjection:\n",
    "    \n",
    "    \n",
    "    def __init__(self):\n",
    "        self.gender=None\n",
    "        self.god=None\n",
    "        self.bank=None\n",
    "        self.love=None\n",
    "        self.not_hurtless=None\n",
    "        self.fun=None\n",
    "        self.flirt=None\n",
    "        self.hand_slide=None\n",
    "        self.original=None\n",
    "        self.not_define=None\n",
    "        self.speak=None\n",
    "        self.local_person=None\n",
    "        self.friend=None\n",
    "    \n",
    "    def random_low(self,rangers):\n",
    "        return np.array([np.random.randint(7,21)/100 for ranger in range(rangers)])\n",
    "    \n",
    "    def random_median(self,rangers):\n",
    "        return np.array([np.random.randint(24,76)/100 for ranger in range(rangers)])\n",
    "    \n",
    "    def random_example(self,rangers):\n",
    "        return np.array(np.random.random(rangers))\n",
    "    \n",
    "    def space(self):\n",
    "        print('#################################')\n",
    "        print('#################################')\n",
    "        print('  ')\n",
    "        \n",
    "    def changer(self, intercept):\n",
    "        if intercept=='low':\n",
    "            return 0.25\n",
    "        elif intercept=='median':\n",
    "            return 0.5\n",
    "        elif intercept=='high':\n",
    "            return 0.75\n",
    "        else:\n",
    "            return 1\n",
    "    \n",
    "    def _name_(self):\n",
    "        _name_=input(\"Ваше имя  -> \")\n",
    "        return _name_ \n",
    "\n",
    "    \n",
    "    def _gender_(self):\n",
    "        _gender_=input(\"Какой пол ? ->  \")\n",
    "        return True if _gender_=='парень' or _gender_=='чувак' or _gender_=='мужской' or _gender_=='мужчина' else False\n",
    "    \n",
    "    \n",
    "    def _old_(self):\n",
    "        if self.gender==True:\n",
    "            print('Чел сколько тебе лет ?')\n",
    "        else:\n",
    "            print('Дорогая ', self.name, ' сколько тебе лет ? ')\n",
    "            \n",
    "        _old_=int(input())\n",
    "        if _old_>19 and _old_<30:\n",
    "            _old_= '1961'\n",
    "            return _old_\n",
    "\n",
    "\n",
    "        elif _old_>30 and _old_<45:\n",
    "            _old_='high'\n",
    "            return _old_\n",
    "\n",
    "\n",
    "        elif _old_ >45:\n",
    "            _old_='median'\n",
    "            return _old_\n",
    "\n",
    "        else:\n",
    "            _old_='low'\n",
    "            return _old_\n",
    "    \n",
    "    def _god_(self):\n",
    "        _god_=input(\"Ты веришь в бога ? \" )\n",
    "        return False if _god_=='да' else True\n",
    "\n",
    "    \n",
    "    def _changer_sigmoid_(self, ask='нет'):\n",
    "        return True if ask=='нет' else False\n",
    "            \n",
    "    def changer_sigmoid(self, ask='да'):\n",
    "        return True if ask=='да' else False\n",
    "    \n",
    "    def _final_fantasy_(self):\n",
    "        self.final_fantasy=1\n",
    "        _fantasy_=input(\"Замечал ли ты фантастику на своем пути ? -->\")  \n",
    "        _history_=input(\"Будет ли потеря если удалить и забыть прошлые тёплые воспоминания и фото ?  -> \")\n",
    "        _mifologia_=input(\"Можем ли мы верить в мифологию например в то что наши предки это обезьяны ?\")\n",
    "        _lucky_=input(\"У каждого своя судьба ? \")\n",
    "        _horoscope_=input('Знаешь ли ты свой гороскоп... Находил ли ты интересным правду гороскопа ? -> ')\n",
    "        _other_force_=input('Есть ли в мире другие силы которые не видны человеку ?')\n",
    "        \n",
    "        _fantasy_=self.changer_sigmoid(ask=_fantasy_)\n",
    "        _history_=self.changer_sigmoid(ask=_history_)\n",
    "        _mifologia_=self.changer_sigmoid(ask=_mifologia_)\n",
    "        _lucky_=self.changer_sigmoid(ask=_lucky_)\n",
    "        _horoscope_=self.changer_sigmoid(ask=_horoscope_)\n",
    "        _other_force_=self.changer_sigmoid(ask=_other_force_)\n",
    "        \n",
    "        self.space()\n",
    "        \n",
    "        if _fantasy_ or _mifologia_:\n",
    "            if self.gender:\n",
    "                print('Фантазер блин ', self.name, '!')\n",
    "            else:\n",
    "                print(self.name, 'а ты фантазерка ')\n",
    "            self.final_fantasy-=0.15\n",
    "            sleep(5)\n",
    "            \n",
    "        else:\n",
    "            if self.gender:\n",
    "                print('Нормально у тебя с фантазиями чувак')\n",
    "            else:\n",
    "                print('Я думаю ты нормальная это в плюс ')\n",
    "            sleep(5)\n",
    "                \n",
    "        if _lucky_ and _other_force_:\n",
    "            if self.gender:\n",
    "                print('Хватит искать виноватых теряешь счастье ')\n",
    "            else:\n",
    "                print('Не правильно думала ', self.name) \n",
    "                print('что во всем виноваты другие в поисках счастья !')\n",
    "            self.final_fantasy-=0.35\n",
    "            sleep(5)\n",
    "            \n",
    "        else:\n",
    "            if self.gender:\n",
    "                print('Думаю с тобой можно побазарить в хорошем смысле чел')\n",
    "            else:\n",
    "                print('Насколько нам ясно наркотики не употребляла в детстве' )\n",
    "            sleep(5)\n",
    "            \n",
    "        \n",
    "        if _mifologia_ and _history_ and _horoscope_:\n",
    "            if self.gender:\n",
    "                print('Бой с самим собой (Паша Техник)!')\n",
    "            else:\n",
    "                print(\"Выграть себя можно если не знала \")\n",
    "            \n",
    "            self.final_fantasy-=0.20\n",
    "            sleep(5)\n",
    "        \n",
    "        else:\n",
    "            if self.gender:\n",
    "                print('Думаю хренью не занимаешься ')\n",
    "            else:\n",
    "                print('Оригинально в твоем случае ', self.name)\n",
    "            sleep(5)\n",
    "                \n",
    "        if _history_ or _lucky_:\n",
    "            print('Семейный человек не самое лучшее о тебе....  есть и другая сторона ->')\n",
    "            self.final_fantasy-=0.15\n",
    "            \n",
    "        else:\n",
    "            if self.gender:\n",
    "                print('Нам нужны такие реалисты как ты парень ')\n",
    "            else:\n",
    "                print('Реалиситка если что проверенно ')\n",
    "            sleep(5)\n",
    "            \n",
    "        \n",
    "        if _horoscope_:\n",
    "            if self.gender:\n",
    "                print('Что решил что гороскоп тоже правду говорит ? ')\n",
    "                print('Тупой чувак')\n",
    "            else:\n",
    "                print(' Да конечно ты проверила на себе что ')\n",
    "                print('гороскоп правду говорит ', self.name)\n",
    "            self.final_fantasy-=0.15\n",
    "            sleep(5)\n",
    "        else:\n",
    "            if self.gender:\n",
    "                print('Молодец ', self.name, ' за то что не увлекаешься гороскопами ')\n",
    "            else:\n",
    "                print('Для девушки скажу не плохо ')\n",
    "            sleep(5)\n",
    "                \n",
    "        self.space() \n",
    "        return self.final_fantasy if self.final_fantasy>0.30 else 0\n",
    "        \n",
    "    def _bank_(self):\n",
    "        \n",
    "        money_dealer=1\n",
    "        \n",
    "        _bank_=self.changer_sigmoid(input('Ecть ли у тебя долг в банке -> '))\n",
    "        if _bank_:\n",
    "            if self.gender:\n",
    "                _money_=int(input(' Сколько готов взять  ?'))\n",
    "            else:\n",
    "                _money_=int(input(' Сколько готова  взять ?'))\n",
    "            \n",
    "            if _money_>300000:\n",
    "                money_dealer-=0.30\n",
    "        else:\n",
    "            print('Неплохо')\n",
    "            \n",
    "        _help_=self.changer_sigmoid(input('Хочешь помочь ближнему  ?'))\n",
    "        if _help_:\n",
    "            money_dealer-=0.35\n",
    "        \n",
    "        if self.gender:\n",
    "            _money_legale_=int(input(' Сколько заработал  ?'))\n",
    "        else:\n",
    "            _money_legale_=int(input(' Сколько заработалa  ?'))\n",
    "        if _money_legale_>self.old*19000:\n",
    "            money_dealer+=0.25\n",
    "        else:\n",
    "            money_dealer-=0.15\n",
    "            \n",
    "        if self.gender:\n",
    "            _money_out_=int(input('Сколько потратил не сам ?'))\n",
    "        else:\n",
    "            _money_out_=int(input('Сколько потратилa не самa ?'))\n",
    "            \n",
    "        if _money_out_<_money_legale_:\n",
    "            money_dealer-=0.20\n",
    "        \n",
    "        self.space()\n",
    "        return money_dealer if money_dealer>0.25 else False\n",
    "        \n",
    "        \n",
    "    def _love_(self):\n",
    "        if self.gender:\n",
    "            _love_=self._changer_sigmoid_(input(' Влюблен ли ты ? '))\n",
    "        else:\n",
    "            _love_=self._changer_sigmoid_(input(' Влюбленa ли ты ? '))\n",
    "        \n",
    "        return _love_\n",
    "    \n",
    "    \n",
    "    \n",
    "    def _not_hurtless_(self):\n",
    "        _not_hurtless_=1\n",
    "        \n",
    "        world_success=self.changer_sigmoid(input('Хочешь ли ты изменить мир к лучшему ? '))\n",
    "        if world_success:\n",
    "            if self.gender:\n",
    "                print('Готов ли ты к этому ? ')\n",
    "            else:\n",
    "                print('Готовa ли ты к этому ? ')\n",
    "            world_success=self.changer_sigmoid(input())\n",
    "            if world_success:\n",
    "                print('Не лезь в бассейн там пираньи ')\n",
    "                _not_hurtless_-=0.19\n",
    "            else:\n",
    "                if self.gender:\n",
    "                    print('Хорошо что ты попробовал посмотреть на это с другой стороны !')\n",
    "                else:\n",
    "                    print('Хорошо что ты попробовалa посмотреть на это с другой стороны !')\n",
    "        else:\n",
    "            print('Если бы сказал да я бы не доверял тебе ')\n",
    "            print(' ')\n",
    "            \n",
    "        print('На сколько ты ценишь человеческую жизнь ? ')\n",
    "        if self.gender:\n",
    "            print('Готов ли ты пожертвовать ради нее чем либо? ')\n",
    "        else:\n",
    "            print('Готовa ли ты пожертвовать ради нее чем либо? ')\n",
    "                \n",
    "        world_success=self.changer_sigmoid(input())  \n",
    "        if world_success:\n",
    "            _not_hurtless_-=0.19\n",
    "            \n",
    "        else:\n",
    "            print('Правильное рассуждение цени свое ')\n",
    "            _not_hurtless_+=0.15\n",
    "             \n",
    "            \n",
    "        world_at_war=self.changer_sigmoid(input('Хочешь ли ты прекратить все войны ?'))\n",
    "        if world_at_war:\n",
    "            _not_hurtless_-=0.12\n",
    "            print('Суеверный ответ...')\n",
    "            world_at_war=self.changer_sigmoid(input(\"Пожертвуешь своей жизнью для этого ?\" ))\n",
    "            if world_at_war:\n",
    "                if self.gender:\n",
    "                    print(\"Получается терять тебе не чего!\" )\n",
    "                else:\n",
    "                    print('Кажется ты потеряла интерес к жизни  ')\n",
    "                _not_hurtless_-=0.22\n",
    "            else:\n",
    "                print('Хорошо что жизнь пока осталась ценной для тебя ', self.name)\n",
    "            \n",
    "        else:\n",
    "            print('Мои почтения и уважение ', self.name)\n",
    "        \n",
    "        \n",
    "        return _not_hurtless_ if _not_hurtless_>0.65 else 0\n",
    "            \n",
    "            \n",
    "    def self_crasher(self, ten=10, learning_rate=0.5):\n",
    "        ask=self.changer_sigmoid(input('Будешь только правду говорить'))\n",
    "        if ask:\n",
    "            print('Продолжаем')\n",
    "            return True\n",
    "        else:\n",
    "            while(True):\n",
    "                ten-=learning_rate\n",
    "                print('Соморазрушение через ',ten)\n",
    "                sleep(learning_rate)\n",
    "                if ten<1:\n",
    "                    print('Пока')\n",
    "                    sleep(learning_rate)\n",
    "                    print('Пока')\n",
    "                    sleep(learning_rate)\n",
    "                    if self.gender:\n",
    "                        print('Дорогой ', self.name)\n",
    "                        print('Идите')\n",
    "                        sleep(1)\n",
    "                        print('на')\n",
    "                        sleep(3)\n",
    "                        print('улицу жить в матрице ')\n",
    "                    else:\n",
    "                        print('Дорогая  ', self.name)\n",
    "                        sleep(2)\n",
    "                        print('Вы были успешно посланы ')\n",
    "                        sleep(2)\n",
    "                        print('Пудрить носик')\n",
    "                        print('Пока, Пока !!!')\n",
    "                    return False   \n",
    "                else:\n",
    "                    continue\n",
    "        \n",
    "    def _your_score_(self):\n",
    "        \n",
    "        if self.self_crasher():\n",
    "            print(' ')\n",
    "        else:\n",
    "            self.your_score=-10\n",
    "            return self.your_score\n",
    "        \n",
    "        print(' ')\n",
    "        sleep(2)\n",
    "        print('Вариант (А) ')\n",
    "        print('Мой выбор в основном совпадает с моими друзьями и я им доверяю...')\n",
    "        sleep(1)\n",
    "        \n",
    "        print(' ')\n",
    "        print('Вариант (Б) ')\n",
    "        print('Готов потерять близкого человека за свое мнение...')\n",
    "        sleep(1)\n",
    "        \n",
    "        print(' ')\n",
    "        print('Вариант (В) ')\n",
    "        print('Мое мнение может быть изменчиво если вопрос о счастье родных мне людей... ')\n",
    "        sleep(1)\n",
    "        \n",
    "        print(' ')\n",
    "        print('Вариант (Г) ')\n",
    "        print('На деле выбор это не главное, так как главное результат успеха... ')\n",
    "        print(' ')\n",
    "        sleep(1)\n",
    "        \n",
    "        \n",
    "        print('Читай и думай ')\n",
    "        sleep(4)\n",
    "        ask=input('Какой из вариантов про тебя ?')\n",
    "        \n",
    "        if ask=='Б':\n",
    "            point= '1961'\n",
    "        \n",
    "        elif ask=='В':\n",
    "            point= 'median'\n",
    "        \n",
    "        elif ask=='А':\n",
    "            point= 'low'\n",
    "        \n",
    "        elif ask=='Г':\n",
    "            point= 'low'\n",
    "            \n",
    "        else:\n",
    "            point='zero_value'\n",
    "            print(point)\n",
    "            \n",
    "        _your_score_= 0 if point=='zero_value' else self.changer(point)\n",
    "        \n",
    "        sleep(2)\n",
    "        print('На этот раз у тебя есть шанс выбрать 2 варианта из 6-и')\n",
    "        sleep(4)\n",
    "        \n",
    "        print('Начнём ?')\n",
    "        ask=self.changer_sigmoid(input())\n",
    "        \n",
    "        if ask:\n",
    "            sleep(2)\n",
    "            print('Вариант (А) ')\n",
    "            print('В этом мире есть люди без которых нету смысла жить...')\n",
    "            sleep(1)\n",
    "        \n",
    "            print(' ')\n",
    "            print('Вариант (Б) ')\n",
    "            print('Нельзя быть уверенным  дело тут в везении ')\n",
    "            sleep(1)\n",
    "\n",
    "        \n",
    "            print(' ')\n",
    "            print('Вариант (В) ')\n",
    "            print('Люди это проекции подсознания на реальность осущиствлять сознанием...')\n",
    "            sleep(1)\n",
    "        \n",
    "            print(' ')\n",
    "            print('Вариант (Г) ')\n",
    "            if self.gender:\n",
    "                print('Что то хуйня что это хуйня эти обе хуйни такие')\n",
    "                print('что я ебал ее маму рот ?')\n",
    "                \n",
    "            else:\n",
    "                print('Что то (..) что это (..) эти трое (..) такие что я не выберу ничего')\n",
    "            \n",
    "            print(' ')\n",
    "            print('Вариант (Д) ')\n",
    "            print('Есть в этом мире плохие и хорошие люди...')\n",
    "            sleep(1)\n",
    "            \n",
    "            print(' ')\n",
    "            print('Вариант (Е) ')\n",
    "            if self.gender:\n",
    "                print('Радость в деньгах и это я понял в своей жизни очень довно...')\n",
    "            else:\n",
    "                print('Радость в деньгах и это я поняла в своей жизни очень довно...')\n",
    "\n",
    "            sleep(2)\n",
    "            print('Напиши два варианта например АЕ ?')\n",
    "            \n",
    "            ask=input('--> ')\n",
    "            \n",
    "            \n",
    "\n",
    "            \n",
    "            if ask[0]=='А':\n",
    "                point='high'\n",
    "                _your_score_-=self.changer(point)\n",
    "                if ask[1]=='Д':\n",
    "                    if self.gender:\n",
    "                        print(print('MMM...'))\n",
    "                        sleep(4)\n",
    "                        print('Как то женственно парень')\n",
    "                        point='median'\n",
    "                        _your_score_-=self.changer(point)\n",
    "                    else:\n",
    "                        print('Думаю разговор с какой то милой девушкой')\n",
    "                        point='median'\n",
    "                        _your_score_+=self.changer(point)\n",
    "                        \n",
    "                elif ask[1]=='Б':\n",
    "                    point='low'\n",
    "                    _your_score_-=self.changer(point)\n",
    "                \n",
    "                else:\n",
    "                    point='median'\n",
    "                    _your_score_-=self.changer(point)\n",
    "                    \n",
    "                    \n",
    "            \n",
    "            elif ask[0]=='Б':\n",
    "                point='median'\n",
    "                _your_score_-=self.changer(point)\n",
    "                if ask[1]=='Д':\n",
    "                    if self.gender:\n",
    "                        print(print('MMM...'))\n",
    "                        sleep(4)\n",
    "                        print('Как то женственно парень')\n",
    "                        point='median'\n",
    "                        _your_score_-=self.changer(point)\n",
    "                    else:\n",
    "                        print('Думаю разговор с какой то милой девушкой')\n",
    "                        point='median'\n",
    "                        _your_score_-=self.changer(point)\n",
    "                        \n",
    "                        \n",
    "                elif ask[1]=='Е':\n",
    "                    point='high'\n",
    "                    _your_score_-=self.changer(point)\n",
    "                \n",
    "                else:\n",
    "                    point='median'\n",
    "                    _your_score_-=self.changer(point)\n",
    "                    \n",
    "            \n",
    "            elif ask[0]=='В':\n",
    "                point='median'\n",
    "                print('Неплохо на счет (В)')\n",
    "                _your_score_+=self.changer(point)\n",
    "                if ask[1]=='Е':\n",
    "                    point='median'\n",
    "                    if self.gender:\n",
    "                        print('Есть у тебя шанс бери его пока не поздно парень хороший ответ !! ')\n",
    "                        _your_score_+=self.changer(point)\n",
    "                    else:\n",
    "                        print('Есть у тебя шанс бери его пока не поздно детка  хороший ответ !! ')\n",
    "                        _your_score_+=self.changer(point)\n",
    "                        \n",
    "                elif ask[1]=='Г':\n",
    "                    point='1961'\n",
    "                    _your_score_+=self.changer(point)\n",
    "                \n",
    "                else:\n",
    "                    point='median'\n",
    "                    _your_score_-=self.changer(point)\n",
    "            \n",
    "            \n",
    "            \n",
    "            \n",
    "           \n",
    "                \n",
    "            \n",
    "                 \n",
    "                \n",
    "            elif ask[0]=='В':\n",
    "                point='low'\n",
    "                _your_score_+=self.changer(point)\n",
    "                if ask[1]=='Е':\n",
    "                    print('Вижу стимул стать лучше есть у тебя')\n",
    "                    sleep(1)\n",
    "                    print('Но ...')\n",
    "                    sleep(2)\n",
    "                    if self.gender:\n",
    "                        print('Есть девушка которая что то испортила в тебе')\n",
    "                        point='high'\n",
    "                        _your_score_-=self.changer(point)\n",
    "\n",
    "                    else:\n",
    "                        print('Смотри не разыграйся в чувствах  ')\n",
    "                        point='low'\n",
    "                        _your_score_+=self.changer(point)\n",
    "                \n",
    "                else:\n",
    "                    point='median'\n",
    "                    _your_score_-=self.changer(point)\n",
    "                    \n",
    "                    \n",
    "                \n",
    "            else:\n",
    "                if self.gender:\n",
    "                    point='median'\n",
    "                    your_score_-=self.changer(point)\n",
    "                else:\n",
    "                    point='low'\n",
    "                    _your_score_-=self.changer(point)\n",
    "            \n",
    "            \n",
    "            return _your_score_\n",
    "        \n",
    "        \n",
    "        \n",
    "    \n",
    "       \n",
    "    \n",
    "    def Who_you(self):\n",
    "        self.name=self._name_()\n",
    "        self.gender=self._gender_()\n",
    "        ask=self.changer_sigmoid(input('Напиши что нибудь -> ')) \n",
    "        if ask:\n",
    "            self.old=self.random_median(rangers=1)[0]\n",
    "            self.god=self.random_median(rangers=1)[0]\n",
    "            self.final_fantasy=self.random_median(rangers=1)[0]\n",
    "            self.bank=self.random_median(rangers=1)[0]\n",
    "            self.love=True if random()>0.5 else False\n",
    "            self.not_hurtless=self.random_median(rangers=1)[0]\n",
    "            self.your_score=self.random_median(rangers=1)[0]\n",
    "        else:\n",
    "            self.old=self.changer(self._old_())\n",
    "            self.god=self._god_()\n",
    "            self.final_fantasy=self._final_fantasy_()\n",
    "            self.bank=self._bank_()\n",
    "            self.love=self._love_()\n",
    "            self.not_hurtless=self._not_hurtless_()\n",
    "            self.your_score=self._your_score_()\n",
    "\n",
    "\n",
    "        data=DataFrame([self.gender, self.old,self.final_fantasy,\n",
    "                    self.bank, self.love, self.not_hurtless, self.your_score]).T\n",
    "        data.columns=['Gender','Old', 'final_fantasy', 'bank_and_money', 'love', 'not_hurtless', 'your_score_to_all']\n",
    "        data.index=[self.name]\n",
    "            \n",
    "        return data\n",
    "\n",
    "    \n",
    "    \n",
    "    def dataminer(self,pick_arguments):\n",
    "        \n",
    "        speak=1 if self.changer(pick_arguments.T['_rapport_'][0])>0.7 else 0\n",
    "        speak=True if pick_arguments.T['_last_partner_'][0] else False\n",
    "        self.speak=speak\n",
    "        return [self.changer(pick_arguments.T['fun'][0]),self.changer(pick_arguments.T['_flirt_'][0]),\n",
    "                self.changer(pick_arguments.T['_self_'][0]),self.changer(pick_arguments.T['_original_void_'][0]),\n",
    "                pick_arguments.T['_not_define_'][0],pick_arguments.T['_local_person_'][0],\n",
    "                pick_arguments.T['_friend_zone_'][0], self.speak ]\n",
    "\n",
    "    def np_1961_predict(self,gender):\n",
    "        select_columns=['fun', 'flirt','hand_slide', 'original',\n",
    "            'not_define', 'speak', 'local_person','friend']\n",
    "        \n",
    "        if gender:\n",
    "            ask=self.changer_sigmoid(input('from np_prediction__.ipynb import Pick_up ###### Импортируем _?_   '))\n",
    "            if ask:\n",
    "                pick_up=pick_processors()\n",
    "                select_data=DataFrame(ManicProjection().dataminer(pick_up))\n",
    "            else:\n",
    "                select_data= DataFrame( self.random_example(rangers=len(select_columns)))\n",
    "                \n",
    "        else:\n",
    "            print(' ')\n",
    "            print(' ')\n",
    "            print('Генерация данных по противоположному полу ')\n",
    "            select_data= DataFrame(self.random_median(rangers=len(select_columns))) \n",
    "        \n",
    "        select_data=select_data\n",
    "        select_data.columns=select_columns\n",
    "        if gender:\n",
    "            select_data.index=['girls_config']\n",
    "        else:\n",
    "            select_data.index=['men_config']\n",
    "        return select_data\n",
    "\n",
    "    \n",
    "    def np_1961_predict(self,pick_up=None):\n",
    "        if pick_up:\n",
    "            pass\n",
    "        else:\n",
    "            pick_up=pick_processors().T\n",
    "        pick_up.values[0]=[values if type(values)==bool else ManicProjection().changer(values\n",
    "                                                                    ) for values in pick_up.values[0]]\n",
    "        \n",
    "        \n",
    "        \n",
    "        \n",
    "        select_columns=['fun', 'flirt','hand_slide', 'original',\n",
    "            'not_define', 'speak', 'local_person','friend']\n",
    "\n",
    "        columns=[pick_up.columns[index] for index in [0,2,4,5,6,8,-2,-1]]\n",
    "        select_data=pick_up[columns]\n",
    "        select_data.columns=select_columns\n",
    "        return select_data\n",
    "    \n",
    "    \n",
    "    \n",
    "    def main(self, select_columns=8):\n",
    "        if __name__ == \"__main__\":\n",
    "            who_you=DataFrame(ManicProjection().Who_you())\n",
    "            select_data=DataFrame(ManicProjection().np_1961_predict())\n",
    "            \n",
    "            return who_you,select_data"
   ]
  },
  {
   "cell_type": "code",
   "execution_count": null,
   "metadata": {},
   "outputs": [],
   "source": []
  },
  {
   "cell_type": "code",
   "execution_count": null,
   "metadata": {},
   "outputs": [],
   "source": []
  },
  {
   "cell_type": "markdown",
   "metadata": {},
   "source": [
    "#   Models"
   ]
  },
  {
   "cell_type": "code",
   "execution_count": null,
   "metadata": {},
   "outputs": [],
   "source": [
    "who_you,select_data= [data for data in ManicProjection().main()]\n",
    "\n"
   ]
  },
  {
   "cell_type": "code",
   "execution_count": null,
   "metadata": {},
   "outputs": [],
   "source": [
    "who_you"
   ]
  },
  {
   "cell_type": "code",
   "execution_count": null,
   "metadata": {},
   "outputs": [],
   "source": []
  },
  {
   "cell_type": "code",
   "execution_count": null,
   "metadata": {},
   "outputs": [],
   "source": []
  },
  {
   "cell_type": "code",
   "execution_count": null,
   "metadata": {},
   "outputs": [],
   "source": [
    "select_data"
   ]
  },
  {
   "cell_type": "code",
   "execution_count": null,
   "metadata": {},
   "outputs": [],
   "source": []
  },
  {
   "cell_type": "code",
   "execution_count": null,
   "metadata": {},
   "outputs": [],
   "source": []
  },
  {
   "cell_type": "code",
   "execution_count": null,
   "metadata": {
    "scrolled": true
   },
   "outputs": [],
   "source": []
  },
  {
   "cell_type": "code",
   "execution_count": null,
   "metadata": {},
   "outputs": [],
   "source": []
  },
  {
   "cell_type": "code",
   "execution_count": null,
   "metadata": {},
   "outputs": [],
   "source": []
  },
  {
   "cell_type": "code",
   "execution_count": null,
   "metadata": {},
   "outputs": [],
   "source": []
  },
  {
   "cell_type": "code",
   "execution_count": null,
   "metadata": {},
   "outputs": [],
   "source": []
  },
  {
   "cell_type": "code",
   "execution_count": null,
   "metadata": {},
   "outputs": [],
   "source": [
    "df"
   ]
  },
  {
   "cell_type": "code",
   "execution_count": null,
   "metadata": {},
   "outputs": [],
   "source": []
  },
  {
   "cell_type": "code",
   "execution_count": null,
   "metadata": {},
   "outputs": [],
   "source": [
    "class preprocessors:\n",
    "\n",
    "    \n",
    "                \n",
    "    class RELU:\n",
    "        def ReLu_magic(item):\n",
    "            return True if item > 0.60 else False\n",
    "\n",
    "        def ReLu_original(item):\n",
    "            return True if item > 0.50 else False\n",
    "\n",
    "        def ReLu_minimals(item):\n",
    "            return True if item < 0.40 else False\n",
    "\n",
    "        def ReLu_millie(item):\n",
    "            return True if item > 0.13 else False\n",
    "\n",
    "        def ReLu_quarter(item):\n",
    "            return True if item > 0.25 else False\n",
    "\n",
    "        def ReLu_success(item):\n",
    "            return True if item > 0.85 else False\n",
    "        \n",
    "        \n",
    "    def preprocessor_up(data , _process_in_,_name_):\n",
    "                _process_in_=DataFrame(np.array([Pick_Up().ReLu_unquarter(data.T[data.index[0]][column]) for column in data.columns]))\n",
    "                _process_in_.columns=[_name_]\n",
    "                _process_in_.index=data.T.index\n",
    "                return _process_in_.T      \n",
    "\n",
    "    def preprocessor_down(data, _process_in_, _name_):\n",
    "                _process_in_=DataFrame(np.array([Pick_Up().ReLu_normal(data.T[data.index[0]][column]) for column in data.columns]))\n",
    "                _process_in_.columns=[_name_]\n",
    "                _process_in_.index=data.T.index\n",
    "                return _process_in_.T\n",
    "\n",
    "    def preprocessor_delta(data, _process_in_, _name_):\n",
    "                _process_in_=DataFrame(np.array([Pick_Up().ReLu_original(data.T[data.index[0]][column]) for column in data.columns]))\n",
    "                _process_in_.columns=[_name_]\n",
    "                _process_in_.index=data.T.index\n",
    "                return _process_in_.T\n",
    "\n",
    "    def preprocessor_alfa(data, _process_in_, _name_):\n",
    "                _process_in_=DataFrame(np.array([Pick_Up().ReLu_magic(data.T[_name_][column]) for column in data.columns]))\n",
    "                _process_in_.columns=[_name_]\n",
    "                _process_in_.index=data.T.index\n",
    "                return _process_in_.T\n",
    "\n",
    "    def generators(_data_=None):\n",
    "            \n",
    "            return [ preprocessors.preprocessor_up(data=_data_, _process_in_=None, _name_=_data_.index[0]),\n",
    "                     preprocessors.preprocessor_down(data=_data_, _process_in_=None, _name_=_data_.index[0]),\n",
    "                     preprocessors.preprocessor_delta(data=_data_, _process_in_=None, _name_=_data_.index[0]),\n",
    "                     preprocessors.preprocessor_alfa(data=_data_, _process_in_=None, _name_=_data_.index[0])]\n",
    "                    "
   ]
  },
  {
   "cell_type": "code",
   "execution_count": null,
   "metadata": {},
   "outputs": [],
   "source": []
  },
  {
   "cell_type": "code",
   "execution_count": null,
   "metadata": {},
   "outputs": [],
   "source": []
  },
  {
   "cell_type": "code",
   "execution_count": null,
   "metadata": {},
   "outputs": [],
   "source": [
    "class MicroScanner:\n",
    "    def __init__(self, who_you, select_data, df=None):\n",
    "        self.df=df\n",
    "        self.delta_data=who_you\n",
    "        self.alfa_data=select_data\n",
    "        self.weights_delta=np.array([30,75,221,147,100, 961, 1961])\n",
    "        self.weights_alfa=np.array([140,300,350,400,200,500,190,290])\n",
    "        self.all_weights=list()\n",
    "        non=[self.all_weights.append(weight) for weight in self.weights_alfa]\n",
    "        non=[self.all_weights.append(weight) for weight in self.weights_delta]\n",
    "        \n",
    "    def info(self):\n",
    "        print('select_data/who_you','\\n','\\n')\n",
    "\n",
    "        print('| Minimal values |')\n",
    "        printer=[print(int(element*10000)/100) for element in MicroScanner(\n",
    "            who_you=preprocessors.generators(_data_=who_you)[0],\n",
    "            select_data=preprocessors.generators(_data_=select_data\n",
    "                                             )[0]).aktivate_function()]\n",
    "        print( '\\n')\n",
    "        kuk_local=MicroScanner(who_you,select_data).preprocessor_arguments()\n",
    "        print( '| Median_values  |')\n",
    "        print(np.sum(kuk_local['select_data'])/len(kuk_local['select_data']))\n",
    "        print(np.sum(kuk_local['who_you'])/len(kuk_local['who_you'])) \n",
    "        \n",
    "        \n",
    "    def predict(self):\n",
    "        return np.array([int(prediction) for prediction in [\n",
    "            np.dot(self.alfa_data,self.weights_alfa), np.dot(self.delta_data,self.weights_delta)]])\n",
    "    \n",
    "\n",
    "    \n",
    "    def aktivate_function(self):\n",
    "            return [sigmoid if sigmoid<1 else np.random.randint(95,100)/100 for sigmoid in [\n",
    "                self.predict()[0]/np.sum(\n",
    "                    self.weights_alfa) , self.predict()[1]/np.sum(self.weights_delta)] ]\n",
    "    \n",
    "    def prediction(self):\n",
    "        return np.dot(self.df,self.all_weights)\n",
    "    \n",
    "    def aktivation_generation(self):\n",
    "        return [sigmoid if sigmoid<1 else np.random.randint(95,100)/100  for sigmoid in [\n",
    "            self.prediction()/np.sum(self.all_weights)][0]]\n",
    "    \n",
    "            \n",
    "    def preprocessor_arguments(self,arguments=DataFrame()):\n",
    "        who_you=self.delta_data\n",
    "        select_data=self.alfa_data\n",
    "        arguments['who_you']=DataFrame(\n",
    "            [[int(element*10000)/100 for element in MicroScanner(\n",
    "                who_you=_who_you_ , select_data=select_data).aktivate_function()\n",
    "            ] for _who_you_ in preprocessors.generators(_data_=who_you)] )[1]\n",
    "\n",
    "        arguments['select_data']=DataFrame(\n",
    "            [[int(element*10000)/100 for element in MicroScanner(\n",
    "                who_you=who_you , select_data=_select_data_).aktivate_function()\n",
    "            ] for _select_data_ in preprocessors.generators(_data_=select_data)] )[0]\n",
    "    \n",
    "        return arguments\n",
    "    \n",
    "\n",
    "    \n",
    "    def concatenate(self, data, _data_):\n",
    "        df=preprocessors.generators(_data_=data)[-1]\n",
    "        df['feminization']=np.zeros(len(df))\n",
    "        df=df.T\n",
    "        df['women_config']=preprocessors.generators(_data_=_data_)[1].columns\n",
    "        df['coef__']=preprocessors.generators(_data_=_data_)[-1].values[0]\n",
    "        return df\n",
    "    \n",
    "    def norm_generate(self,diapazone_,_diapazone):\n",
    "        return diapazone_+(_diapazone-diapazone_)*np.random.random()\n",
    "    \n",
    "    \n",
    "    def new_people(self,df, bot_rangers=100, hz=0.19):\n",
    "        bot_rangers=range(bot_rangers)\n",
    "        df= DataFrame(np.array([\n",
    "            [self.norm_generate(df.values[0][ranger]-hz, df.values[0][ranger]+hz\n",
    "                          ) for _rangers_ in bot_rangers] for ranger in range(len(df.columns))]),\n",
    "                     index=df.columns).T\n",
    "        return df\n",
    "        \n",
    "        \n",
    "\n",
    "    "
   ]
  },
  {
   "cell_type": "code",
   "execution_count": null,
   "metadata": {},
   "outputs": [],
   "source": []
  },
  {
   "cell_type": "markdown",
   "metadata": {},
   "source": [
    "# FIRST STEP TO  [ ][ ] FUTURE"
   ]
  },
  {
   "cell_type": "code",
   "execution_count": null,
   "metadata": {},
   "outputs": [],
   "source": []
  },
  {
   "cell_type": "code",
   "execution_count": null,
   "metadata": {},
   "outputs": [],
   "source": [
    "who_you\n"
   ]
  },
  {
   "cell_type": "code",
   "execution_count": null,
   "metadata": {},
   "outputs": [],
   "source": [
    "    "
   ]
  },
  {
   "cell_type": "code",
   "execution_count": null,
   "metadata": {},
   "outputs": [],
   "source": [
    "select_data"
   ]
  },
  {
   "cell_type": "code",
   "execution_count": null,
   "metadata": {},
   "outputs": [],
   "source": [
    "who_you.join(select_data)"
   ]
  },
  {
   "cell_type": "code",
   "execution_count": null,
   "metadata": {},
   "outputs": [],
   "source": []
  },
  {
   "cell_type": "code",
   "execution_count": null,
   "metadata": {},
   "outputs": [],
   "source": []
  },
  {
   "cell_type": "code",
   "execution_count": null,
   "metadata": {
    "scrolled": true
   },
   "outputs": [],
   "source": [
    "print( '| Best Procents |', '\\n')\n",
    "printer=np.array([element for element in MicroScanner(who_you=who_you,\n",
    "                                                      select_data=select_data).aktivate_function()])\n",
    "print(printer)"
   ]
  },
  {
   "cell_type": "code",
   "execution_count": null,
   "metadata": {},
   "outputs": [],
   "source": []
  },
  {
   "cell_type": "markdown",
   "metadata": {},
   "source": [
    " # REAL  [ ] [ ] presents"
   ]
  },
  {
   "cell_type": "code",
   "execution_count": null,
   "metadata": {},
   "outputs": [],
   "source": [
    "MicroScanner(who_you=who_you, select_data=select_data).concatenate(\n",
    "    data=who_you, _data_=select_data) "
   ]
  },
  {
   "cell_type": "code",
   "execution_count": null,
   "metadata": {},
   "outputs": [],
   "source": [
    "MicroScanner(who_you,select_data).preprocessor_arguments()"
   ]
  },
  {
   "cell_type": "code",
   "execution_count": null,
   "metadata": {},
   "outputs": [],
   "source": [
    "MicroScanner(who_you,select_data).info()"
   ]
  },
  {
   "cell_type": "code",
   "execution_count": null,
   "metadata": {},
   "outputs": [],
   "source": []
  },
  {
   "cell_type": "code",
   "execution_count": null,
   "metadata": {},
   "outputs": [],
   "source": []
  },
  {
   "cell_type": "code",
   "execution_count": null,
   "metadata": {},
   "outputs": [],
   "source": []
  },
  {
   "cell_type": "code",
   "execution_count": null,
   "metadata": {},
   "outputs": [],
   "source": [
    "arguments=[who_you,select_data]\n",
    "concatenate=[preprocessors.RELU.ReLu_magic(\n",
    "            _value_[index]) for _value_ in [\n",
    "                 _values_ for _values_ in [\n",
    "                    item for item in np.array([\n",
    "                        items for items in np.array([\n",
    "                            tab%2 for tab in np.array([\n",
    "                                tabs for tabs in [\n",
    "                                    pixel for pixel in [\n",
    "                                        pixels for pixels in [\n",
    "                                            element for element in [\n",
    "                                                elements for elements in [\n",
    "                                                    value for value in [\n",
    "                                                        values for values in [\n",
    "                                                            argument.values[0] for argument in \n",
    "                                                                arguments]]]]]]]])])])]]\n",
    "             \n",
    "                                                                     for index in range(6)] "
   ]
  },
  {
   "cell_type": "code",
   "execution_count": null,
   "metadata": {},
   "outputs": [],
   "source": [
    "concatenate"
   ]
  },
  {
   "cell_type": "code",
   "execution_count": null,
   "metadata": {},
   "outputs": [],
   "source": [
    "df.T[0]"
   ]
  },
  {
   "cell_type": "code",
   "execution_count": null,
   "metadata": {},
   "outputs": [],
   "source": []
  },
  {
   "cell_type": "code",
   "execution_count": null,
   "metadata": {},
   "outputs": [],
   "source": []
  },
  {
   "cell_type": "code",
   "execution_count": null,
   "metadata": {},
   "outputs": [],
   "source": []
  },
  {
   "cell_type": "markdown",
   "metadata": {},
   "source": [
    "# Preparing"
   ]
  },
  {
   "cell_type": "code",
   "execution_count": null,
   "metadata": {},
   "outputs": [],
   "source": []
  },
  {
   "cell_type": "code",
   "execution_count": null,
   "metadata": {},
   "outputs": [],
   "source": []
  },
  {
   "cell_type": "code",
   "execution_count": null,
   "metadata": {},
   "outputs": [],
   "source": [
    "weights=np.array([140,300,350,400,200,500,190,290,30,75,221,147,100, 961, 1961])"
   ]
  },
  {
   "cell_type": "code",
   "execution_count": null,
   "metadata": {},
   "outputs": [],
   "source": []
  },
  {
   "cell_type": "code",
   "execution_count": null,
   "metadata": {},
   "outputs": [],
   "source": [
    "weights.shape"
   ]
  },
  {
   "cell_type": "code",
   "execution_count": null,
   "metadata": {},
   "outputs": [],
   "source": [
    "class Robot_in_matrix:\n",
    "    \n",
    "    class Regression_moments:\n",
    "        \n",
    "        def __init__(self):\n",
    "            scan=MicroScanner(who_you=who_you,select_data=select_data)\n",
    "            self.all_weights=scan.all_weights\n",
    "\n",
    "            \n",
    "        def aktivate_neuron(self,df=None, weights=None):\n",
    "            if weights==None:\n",
    "                return [element if element <1 else 1 for element in \n",
    "                     [np.dot(df.T[index],self.all_weights)/sum(self.all_weights) for index in df.index]]\n",
    "            else:\n",
    "                return np.dot(df,weights)/sum(weights)\n",
    "\n",
    "            \n",
    "        \n",
    "    class epoch_processors:\n",
    "        \n",
    "        def __init__(self, df=df):\n",
    "            \n",
    "            self.df=df\n",
    "            scan=MicroScanner(who_you=who_you,select_data=select_data)\n",
    "            self.all_weights=scan.all_weights\n",
    "            \n",
    "        def waterwill(self,values):\n",
    "            np_median= MicroScanner(who_you,select_data).norm_generate(np.array(self.all_weights).mean(),np.array(self.all_weights).max())\n",
    "            return np.array(values)-np.array(np_median) if random()<0.5 else np.array(values)+np.array(np_median)\n",
    "\n",
    "        \n",
    "        def program_weights(self,rangers=40):\n",
    "            scan=MicroScanner(who_you=who_you,select_data=select_data)\n",
    "            weights=DataFrame(np.array([self.waterwill(scan.all_weights) for ranger in range(rangers)]))\n",
    "            return abs(weights)\n",
    "        "
   ]
  },
  {
   "cell_type": "code",
   "execution_count": null,
   "metadata": {},
   "outputs": [],
   "source": []
  },
  {
   "cell_type": "code",
   "execution_count": null,
   "metadata": {},
   "outputs": [],
   "source": []
  },
  {
   "cell_type": "code",
   "execution_count": null,
   "metadata": {},
   "outputs": [],
   "source": []
  },
  {
   "cell_type": "code",
   "execution_count": null,
   "metadata": {},
   "outputs": [],
   "source": []
  },
  {
   "cell_type": "markdown",
   "metadata": {},
   "source": [
    "#                 NEW"
   ]
  },
  {
   "cell_type": "code",
   "execution_count": null,
   "metadata": {},
   "outputs": [],
   "source": []
  },
  {
   "cell_type": "code",
   "execution_count": null,
   "metadata": {},
   "outputs": [],
   "source": [
    "new_weights= Robot_in_matrix.epoch_processors().program_weights(rangers=30).T"
   ]
  },
  {
   "cell_type": "code",
   "execution_count": null,
   "metadata": {},
   "outputs": [],
   "source": []
  },
  {
   "cell_type": "code",
   "execution_count": null,
   "metadata": {},
   "outputs": [],
   "source": [
    "new_weights=DataFrame([new_weights.T[ranger].mean() for ranger in range(len(new_weights.index))])\n",
    "new_weights"
   ]
  },
  {
   "cell_type": "code",
   "execution_count": null,
   "metadata": {},
   "outputs": [],
   "source": [
    "df.shape"
   ]
  },
  {
   "cell_type": "code",
   "execution_count": null,
   "metadata": {},
   "outputs": [],
   "source": []
  },
  {
   "cell_type": "code",
   "execution_count": null,
   "metadata": {},
   "outputs": [],
   "source": [
    "df"
   ]
  },
  {
   "cell_type": "code",
   "execution_count": null,
   "metadata": {},
   "outputs": [],
   "source": []
  },
  {
   "cell_type": "code",
   "execution_count": null,
   "metadata": {},
   "outputs": [],
   "source": []
  },
  {
   "cell_type": "code",
   "execution_count": null,
   "metadata": {},
   "outputs": [],
   "source": [
    "who_you,select_data= [data for data in ManicProjection().main()]"
   ]
  },
  {
   "cell_type": "code",
   "execution_count": null,
   "metadata": {},
   "outputs": [],
   "source": []
  },
  {
   "cell_type": "code",
   "execution_count": null,
   "metadata": {},
   "outputs": [],
   "source": [
    "class Incubator:\n",
    "    def __init__(self, bot_rangers=20):\n",
    "        self.bot_rangers=bot_rangers\n",
    "        self.columns=MicroScanner(who_you=who_you,select_data=select_data\n",
    "                         ).new_people(df=select_data\n",
    "                                     ).join(MicroScanner(who_you=who_you,select_data=select_data\n",
    "                         ).new_people(df=who_you)).columns\n",
    "\n",
    "        self.micro=MicroScanner(who_you=who_you,select_data=select_data)\n",
    "\n",
    "        self.x_ideal=DataFrame(np.array([0.74,0.60,1, 0.87, 0.75, 0.80,0.18, 0.14, 1, 1, 0.70, 0.80, 0, 1.4 , 2.3 ])).T\n",
    "        self.df=self.micro.new_people(df=self.x_ideal, bot_rangers=bot_rangers, hz=0.07)\n",
    "        self.weights=np.array([140,300,350,400,200,500,190,290,30,75,221,147,100, 961, 1961])\n",
    "        \n",
    "        \n",
    "    def preprocessor_values(self):\n",
    "        indexes=[]\n",
    "\n",
    "        norma=np.array([self.df[column].max() for column in [_column_ for _column_ in self.df.columns]])\n",
    "        for index, element in enumerate(norma):\n",
    "            if index<len(norma[:-2]):\n",
    "                if element>1:\n",
    "                    indexes.append(index)\n",
    "                else:\n",
    "                    continue\n",
    "            else:\n",
    "                continue\n",
    "        for index in indexes:\n",
    "            self.df[index]=[element if element<1 else 1 for element in self.df[index]]\n",
    "    \n",
    "    def weights_idealization(self):\n",
    "        callable_weights=[]\n",
    "        _weights_=[]\n",
    "        index=np.random.randint(self.bot_rangers, self.bot_rangers+5)\n",
    "        \n",
    "        example_values=self.df.T[0]\n",
    "        true_values=self.df.T[1]\n",
    "        for example, true in zip(example_values, true_values):\n",
    "            if example <true:\n",
    "                callable_weights.append(example/true)\n",
    "            else:\n",
    "                callable_weights.append(true/example)\n",
    "                \n",
    "        for weight, call in zip(weights, callable_weights):\n",
    "            _weights_.append(weight*call)\n",
    "            \n",
    "        return _weights_\n",
    "    \n",
    "    def append_random_people(self, rangers=5):\n",
    "        self.df=self.df.T\n",
    "        rangers=range(self.bot_rangers, self.bot_rangers +rangers+1)\n",
    "        for ranger in rangers:\n",
    "            self.df[ranger]=np.random.random(len(self.df.index))  \n",
    "        self.df=self.df.T\n",
    "        \n",
    "    def bias(self):\n",
    "        return np.random.randint(6,13)/100\n",
    "    \n",
    "    \n",
    "    def y(self):\n",
    "        return [element if element <1 else 1 for element in np.array(\n",
    "                                            [element for element in (self.df.dot(self.weights\n",
    "                                                )+self.bias())]) /np.sum(self.weights)]\n",
    "    \n",
    "\n",
    "    "
   ]
  },
  {
   "cell_type": "code",
   "execution_count": null,
   "metadata": {},
   "outputs": [],
   "source": []
  },
  {
   "cell_type": "code",
   "execution_count": null,
   "metadata": {},
   "outputs": [],
   "source": [
    "incubator=Incubator()"
   ]
  },
  {
   "cell_type": "code",
   "execution_count": null,
   "metadata": {},
   "outputs": [],
   "source": []
  },
  {
   "cell_type": "code",
   "execution_count": null,
   "metadata": {},
   "outputs": [],
   "source": []
  },
  {
   "cell_type": "code",
   "execution_count": null,
   "metadata": {
    "scrolled": false
   },
   "outputs": [],
   "source": [
    "pyplot.plot(incubator.x_ideal.T, 'r')"
   ]
  },
  {
   "cell_type": "code",
   "execution_count": null,
   "metadata": {},
   "outputs": [],
   "source": []
  },
  {
   "cell_type": "code",
   "execution_count": null,
   "metadata": {},
   "outputs": [],
   "source": []
  },
  {
   "cell_type": "code",
   "execution_count": null,
   "metadata": {
    "scrolled": true
   },
   "outputs": [],
   "source": [
    "pyplot.plot(incubator.weights, 'g')"
   ]
  },
  {
   "cell_type": "code",
   "execution_count": null,
   "metadata": {},
   "outputs": [],
   "source": [
    "incubator.x_ideal"
   ]
  },
  {
   "cell_type": "code",
   "execution_count": null,
   "metadata": {},
   "outputs": [],
   "source": []
  },
  {
   "cell_type": "code",
   "execution_count": null,
   "metadata": {},
   "outputs": [],
   "source": [
    "incubator=Incubator(bot_rangers=300)"
   ]
  },
  {
   "cell_type": "code",
   "execution_count": null,
   "metadata": {},
   "outputs": [],
   "source": [
    "incubator.preprocessor_values()"
   ]
  },
  {
   "cell_type": "code",
   "execution_count": null,
   "metadata": {},
   "outputs": [],
   "source": [
    "incubator.weights=incubator.weights_idealization()"
   ]
  },
  {
   "cell_type": "code",
   "execution_count": null,
   "metadata": {},
   "outputs": [],
   "source": [
    "incubator.append_random_people(rangers=100)"
   ]
  },
  {
   "cell_type": "code",
   "execution_count": null,
   "metadata": {},
   "outputs": [],
   "source": []
  },
  {
   "cell_type": "code",
   "execution_count": null,
   "metadata": {},
   "outputs": [],
   "source": [
    "incubator.df['y']=incubator.y()"
   ]
  },
  {
   "cell_type": "code",
   "execution_count": null,
   "metadata": {},
   "outputs": [],
   "source": []
  },
  {
   "cell_type": "code",
   "execution_count": null,
   "metadata": {},
   "outputs": [],
   "source": [
    "df=incubator.df\n",
    "df"
   ]
  },
  {
   "cell_type": "code",
   "execution_count": null,
   "metadata": {},
   "outputs": [],
   "source": []
  },
  {
   "cell_type": "code",
   "execution_count": null,
   "metadata": {},
   "outputs": [],
   "source": []
  },
  {
   "cell_type": "code",
   "execution_count": null,
   "metadata": {},
   "outputs": [],
   "source": []
  },
  {
   "cell_type": "code",
   "execution_count": null,
   "metadata": {},
   "outputs": [],
   "source": []
  },
  {
   "cell_type": "markdown",
   "metadata": {},
   "source": [
    "# Data for Learning"
   ]
  },
  {
   "cell_type": "code",
   "execution_count": null,
   "metadata": {
    "scrolled": true
   },
   "outputs": [],
   "source": [
    "df"
   ]
  },
  {
   "cell_type": "code",
   "execution_count": null,
   "metadata": {},
   "outputs": [],
   "source": []
  },
  {
   "cell_type": "code",
   "execution_count": null,
   "metadata": {},
   "outputs": [],
   "source": [
    "x,y=df.drop('y',axis=1),  df['y']"
   ]
  },
  {
   "cell_type": "code",
   "execution_count": null,
   "metadata": {},
   "outputs": [],
   "source": [
    "x_test,x_train,y_test,y_train=train_test_split(x,y, train_size=0.2, shuffle=True, random_state=19)"
   ]
  },
  {
   "cell_type": "code",
   "execution_count": null,
   "metadata": {},
   "outputs": [],
   "source": []
  },
  {
   "cell_type": "markdown",
   "metadata": {},
   "source": [
    "# LinearRegression in sklearn.lenear_model\n"
   ]
  },
  {
   "cell_type": "code",
   "execution_count": null,
   "metadata": {},
   "outputs": [],
   "source": []
  },
  {
   "cell_type": "code",
   "execution_count": null,
   "metadata": {},
   "outputs": [],
   "source": []
  },
  {
   "cell_type": "code",
   "execution_count": null,
   "metadata": {},
   "outputs": [],
   "source": []
  },
  {
   "cell_type": "code",
   "execution_count": null,
   "metadata": {},
   "outputs": [],
   "source": []
  },
  {
   "cell_type": "code",
   "execution_count": null,
   "metadata": {},
   "outputs": [],
   "source": []
  },
  {
   "cell_type": "code",
   "execution_count": null,
   "metadata": {
    "scrolled": true
   },
   "outputs": [],
   "source": [
    "model=LinearRegression()"
   ]
  },
  {
   "cell_type": "code",
   "execution_count": null,
   "metadata": {},
   "outputs": [],
   "source": [
    "model.fit(x_train,y_train)"
   ]
  },
  {
   "cell_type": "code",
   "execution_count": null,
   "metadata": {},
   "outputs": [],
   "source": [
    "model.coef_"
   ]
  },
  {
   "cell_type": "code",
   "execution_count": null,
   "metadata": {},
   "outputs": [],
   "source": [
    "model.intercept_"
   ]
  },
  {
   "cell_type": "code",
   "execution_count": null,
   "metadata": {},
   "outputs": [],
   "source": [
    "x_test.shape"
   ]
  },
  {
   "cell_type": "code",
   "execution_count": null,
   "metadata": {
    "scrolled": true
   },
   "outputs": [],
   "source": [
    "x_train.shape"
   ]
  },
  {
   "cell_type": "code",
   "execution_count": null,
   "metadata": {},
   "outputs": [],
   "source": [
    "model.coef_.shape"
   ]
  },
  {
   "cell_type": "code",
   "execution_count": null,
   "metadata": {},
   "outputs": [],
   "source": [
    "DataFrame(model.predict(x_test), index=x_test.index).T"
   ]
  },
  {
   "cell_type": "code",
   "execution_count": null,
   "metadata": {},
   "outputs": [],
   "source": [
    "DataFrame(y_test).T"
   ]
  },
  {
   "cell_type": "code",
   "execution_count": null,
   "metadata": {},
   "outputs": [],
   "source": [
    "model.score(x_train,y_train)"
   ]
  },
  {
   "cell_type": "code",
   "execution_count": null,
   "metadata": {},
   "outputs": [],
   "source": [
    "model.score(x_test,y_test)"
   ]
  },
  {
   "cell_type": "code",
   "execution_count": null,
   "metadata": {},
   "outputs": [],
   "source": []
  },
  {
   "cell_type": "code",
   "execution_count": null,
   "metadata": {},
   "outputs": [],
   "source": []
  },
  {
   "cell_type": "markdown",
   "metadata": {},
   "source": [
    "# DecisionTreeRegressor in sklearn.tree"
   ]
  },
  {
   "cell_type": "code",
   "execution_count": null,
   "metadata": {},
   "outputs": [],
   "source": [
    "model=DecisionTreeRegressor(max_depth=3, random_state=42)"
   ]
  },
  {
   "cell_type": "code",
   "execution_count": null,
   "metadata": {},
   "outputs": [],
   "source": [
    "model.fit(x_train,y_train)"
   ]
  },
  {
   "cell_type": "code",
   "execution_count": null,
   "metadata": {},
   "outputs": [],
   "source": [
    "model.score(x_test, y_test)"
   ]
  },
  {
   "cell_type": "code",
   "execution_count": null,
   "metadata": {},
   "outputs": [],
   "source": [
    "model.score(x_train,y_train)"
   ]
  },
  {
   "cell_type": "code",
   "execution_count": null,
   "metadata": {},
   "outputs": [],
   "source": []
  },
  {
   "cell_type": "code",
   "execution_count": null,
   "metadata": {
    "scrolled": false
   },
   "outputs": [],
   "source": [
    "DataFrame(model.predict(x_test), index=x_test.index).T"
   ]
  },
  {
   "cell_type": "code",
   "execution_count": null,
   "metadata": {},
   "outputs": [],
   "source": [
    "DataFrame(y_test).T"
   ]
  },
  {
   "cell_type": "code",
   "execution_count": null,
   "metadata": {},
   "outputs": [],
   "source": []
  },
  {
   "cell_type": "code",
   "execution_count": null,
   "metadata": {},
   "outputs": [],
   "source": []
  },
  {
   "cell_type": "code",
   "execution_count": null,
   "metadata": {
    "scrolled": true
   },
   "outputs": [],
   "source": [
    "columns=list(columns)"
   ]
  },
  {
   "cell_type": "code",
   "execution_count": null,
   "metadata": {},
   "outputs": [],
   "source": [
    "columns.append('y')"
   ]
  },
  {
   "cell_type": "code",
   "execution_count": null,
   "metadata": {},
   "outputs": [],
   "source": [
    "df.columns=columns"
   ]
  },
  {
   "cell_type": "code",
   "execution_count": null,
   "metadata": {},
   "outputs": [],
   "source": [
    "df.to_csv('learning_data.csv')"
   ]
  },
  {
   "cell_type": "code",
   "execution_count": null,
   "metadata": {},
   "outputs": [],
   "source": []
  },
  {
   "cell_type": "code",
   "execution_count": null,
   "metadata": {},
   "outputs": [],
   "source": []
  },
  {
   "cell_type": "code",
   "execution_count": null,
   "metadata": {
    "scrolled": true
   },
   "outputs": [],
   "source": []
  },
  {
   "cell_type": "code",
   "execution_count": null,
   "metadata": {},
   "outputs": [],
   "source": []
  },
  {
   "cell_type": "code",
   "execution_count": null,
   "metadata": {},
   "outputs": [],
   "source": []
  },
  {
   "cell_type": "code",
   "execution_count": null,
   "metadata": {},
   "outputs": [],
   "source": []
  },
  {
   "cell_type": "code",
   "execution_count": null,
   "metadata": {},
   "outputs": [],
   "source": []
  },
  {
   "cell_type": "code",
   "execution_count": null,
   "metadata": {},
   "outputs": [],
   "source": []
  },
  {
   "cell_type": "code",
   "execution_count": null,
   "metadata": {},
   "outputs": [],
   "source": []
  }
 ],
 "metadata": {
  "kernelspec": {
   "display_name": "Python 3",
   "language": "python",
   "name": "python3"
  },
  "language_info": {
   "codemirror_mode": {
    "name": "ipython",
    "version": 3
   },
   "file_extension": ".py",
   "mimetype": "text/x-python",
   "name": "python",
   "nbconvert_exporter": "python",
   "pygments_lexer": "ipython3",
   "version": "3.7.6"
  }
 },
 "nbformat": 4,
 "nbformat_minor": 5
}
